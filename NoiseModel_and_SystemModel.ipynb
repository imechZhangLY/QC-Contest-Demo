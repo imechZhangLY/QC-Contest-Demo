{
  "cells": [
    {
      "cell_type": "markdown",
      "metadata": {
        "id": "gj3jZbCBSn71"
      },
      "source": [
        "# Example Code for Implement the Noise Model"
      ]
    },
    {
      "cell_type": "markdown",
      "metadata": {
        "id": "54NH9S1vHrq8"
      },
      "source": [
        "## Basic Installation"
      ]
    },
    {
      "cell_type": "markdown",
      "metadata": {
        "id": "R0OZ3HZZS9Me"
      },
      "source": [
        "Install required package, we highly recommend participant to use qiskit platform, or at least participants can finish preprocessing at other platform and transfer the circuit to qiskit format, since our noise model is from IBM real machine backend and we restricted some algorithmic seeds which could be varied from different platform."
      ]
    },
    {
      "cell_type": "code",
      "execution_count": null,
      "metadata": {
        "colab": {
          "base_uri": "https://localhost:8080/"
        },
        "id": "Pi-oJxidjBSw",
        "outputId": "57ac6166-c0fb-4d2d-b511-03212ca47f0b"
      },
      "outputs": [
        {
          "name": "stdout",
          "output_type": "stream",
          "text": [
            "Collecting qiskit\n",
            "  Downloading qiskit-0.44.1-py3-none-any.whl (8.2 kB)\n",
            "Collecting qiskit-terra==0.25.1 (from qiskit)\n",
            "  Downloading qiskit_terra-0.25.1-cp38-abi3-manylinux_2_17_x86_64.manylinux2014_x86_64.whl (6.1 MB)\n",
            "\u001b[2K     \u001b[90m━━━━━━━━━━━━━━━━━━━━━━━━━━━━━━━━━━━━━━━━\u001b[0m \u001b[32m6.1/6.1 MB\u001b[0m \u001b[31m21.0 MB/s\u001b[0m eta \u001b[36m0:00:00\u001b[0m\n",
            "\u001b[?25hCollecting rustworkx>=0.13.0 (from qiskit-terra==0.25.1->qiskit)\n",
            "  Downloading rustworkx-0.13.1-cp310-cp310-manylinux_2_17_x86_64.manylinux2014_x86_64.whl (2.0 MB)\n",
            "\u001b[2K     \u001b[90m━━━━━━━━━━━━━━━━━━━━━━━━━━━━━━━━━━━━━━━━\u001b[0m \u001b[32m2.0/2.0 MB\u001b[0m \u001b[31m31.0 MB/s\u001b[0m eta \u001b[36m0:00:00\u001b[0m\n",
            "\u001b[?25hRequirement already satisfied: numpy>=1.17 in /usr/local/lib/python3.10/dist-packages (from qiskit-terra==0.25.1->qiskit) (1.23.5)\n",
            "Collecting ply>=3.10 (from qiskit-terra==0.25.1->qiskit)\n",
            "  Downloading ply-3.11-py2.py3-none-any.whl (49 kB)\n",
            "\u001b[2K     \u001b[90m━━━━━━━━━━━━━━━━━━━━━━━━━━━━━━━━━━━━━━━━\u001b[0m \u001b[32m49.6/49.6 kB\u001b[0m \u001b[31m3.9 MB/s\u001b[0m eta \u001b[36m0:00:00\u001b[0m\n",
            "\u001b[?25hRequirement already satisfied: psutil>=5 in /usr/local/lib/python3.10/dist-packages (from qiskit-terra==0.25.1->qiskit) (5.9.5)\n",
            "Requirement already satisfied: scipy>=1.5 in /usr/local/lib/python3.10/dist-packages (from qiskit-terra==0.25.1->qiskit) (1.10.1)\n",
            "Requirement already satisfied: sympy>=1.3 in /usr/local/lib/python3.10/dist-packages (from qiskit-terra==0.25.1->qiskit) (1.12)\n",
            "Collecting dill>=0.3 (from qiskit-terra==0.25.1->qiskit)\n",
            "  Downloading dill-0.3.7-py3-none-any.whl (115 kB)\n",
            "\u001b[2K     \u001b[90m━━━━━━━━━━━━━━━━━━━━━━━━━━━━━━━━━━━━━━━\u001b[0m \u001b[32m115.3/115.3 kB\u001b[0m \u001b[31m9.9 MB/s\u001b[0m eta \u001b[36m0:00:00\u001b[0m\n",
            "\u001b[?25hRequirement already satisfied: python-dateutil>=2.8.0 in /usr/local/lib/python3.10/dist-packages (from qiskit-terra==0.25.1->qiskit) (2.8.2)\n",
            "Collecting stevedore>=3.0.0 (from qiskit-terra==0.25.1->qiskit)\n",
            "  Downloading stevedore-5.1.0-py3-none-any.whl (49 kB)\n",
            "\u001b[2K     \u001b[90m━━━━━━━━━━━━━━━━━━━━━━━━━━━━━━━━━━━━━━━━\u001b[0m \u001b[32m49.6/49.6 kB\u001b[0m \u001b[31m4.6 MB/s\u001b[0m eta \u001b[36m0:00:00\u001b[0m\n",
            "\u001b[?25hCollecting symengine<0.10,>=0.9 (from qiskit-terra==0.25.1->qiskit)\n",
            "  Downloading symengine-0.9.2-cp310-cp310-manylinux2010_x86_64.whl (37.5 MB)\n",
            "\u001b[2K     \u001b[90m━━━━━━━━━━━━━━━━━━━━━━━━━━━━━━━━━━━━━━━━\u001b[0m \u001b[32m37.5/37.5 MB\u001b[0m \u001b[31m14.5 MB/s\u001b[0m eta \u001b[36m0:00:00\u001b[0m\n",
            "\u001b[?25hRequirement already satisfied: typing-extensions in /usr/local/lib/python3.10/dist-packages (from qiskit-terra==0.25.1->qiskit) (4.5.0)\n",
            "Requirement already satisfied: six>=1.5 in /usr/local/lib/python3.10/dist-packages (from python-dateutil>=2.8.0->qiskit-terra==0.25.1->qiskit) (1.16.0)\n",
            "Collecting pbr!=2.1.0,>=2.0.0 (from stevedore>=3.0.0->qiskit-terra==0.25.1->qiskit)\n",
            "  Downloading pbr-5.11.1-py2.py3-none-any.whl (112 kB)\n",
            "\u001b[2K     \u001b[90m━━━━━━━━━━━━━━━━━━━━━━━━━━━━━━━━━━━━━━━\u001b[0m \u001b[32m112.7/112.7 kB\u001b[0m \u001b[31m6.9 MB/s\u001b[0m eta \u001b[36m0:00:00\u001b[0m\n",
            "\u001b[?25hRequirement already satisfied: mpmath>=0.19 in /usr/local/lib/python3.10/dist-packages (from sympy>=1.3->qiskit-terra==0.25.1->qiskit) (1.3.0)\n",
            "Installing collected packages: ply, symengine, rustworkx, pbr, dill, stevedore, qiskit-terra, qiskit\n",
            "Successfully installed dill-0.3.7 pbr-5.11.1 ply-3.11 qiskit-0.44.1 qiskit-terra-0.25.1 rustworkx-0.13.1 stevedore-5.1.0 symengine-0.9.2\n"
          ]
        }
      ],
      "source": [
        "!pip install qiskit"
      ]
    },
    {
      "cell_type": "code",
      "execution_count": null,
      "metadata": {
        "colab": {
          "base_uri": "https://localhost:8080/"
        },
        "id": "FigIfjs1bYGa",
        "outputId": "5a2fb4db-8bfb-43d6-d672-73c6a0a5c7f8"
      },
      "outputs": [
        {
          "name": "stdout",
          "output_type": "stream",
          "text": [
            "Collecting qiskit_aer\n",
            "  Downloading qiskit_aer-0.12.2-cp310-cp310-manylinux_2_17_x86_64.manylinux2014_x86_64.whl (12.8 MB)\n",
            "\u001b[2K     \u001b[90m━━━━━━━━━━━━━━━━━━━━━━━━━━━━━━━━━━━━━━━━\u001b[0m \u001b[32m12.8/12.8 MB\u001b[0m \u001b[31m21.5 MB/s\u001b[0m eta \u001b[36m0:00:00\u001b[0m\n",
            "\u001b[?25hRequirement already satisfied: qiskit-terra>=0.21.0 in /usr/local/lib/python3.10/dist-packages (from qiskit_aer) (0.25.1)\n",
            "Requirement already satisfied: numpy>=1.16.3 in /usr/local/lib/python3.10/dist-packages (from qiskit_aer) (1.23.5)\n",
            "Requirement already satisfied: scipy>=1.0 in /usr/local/lib/python3.10/dist-packages (from qiskit_aer) (1.10.1)\n",
            "Requirement already satisfied: rustworkx>=0.13.0 in /usr/local/lib/python3.10/dist-packages (from qiskit-terra>=0.21.0->qiskit_aer) (0.13.1)\n",
            "Requirement already satisfied: ply>=3.10 in /usr/local/lib/python3.10/dist-packages (from qiskit-terra>=0.21.0->qiskit_aer) (3.11)\n",
            "Requirement already satisfied: psutil>=5 in /usr/local/lib/python3.10/dist-packages (from qiskit-terra>=0.21.0->qiskit_aer) (5.9.5)\n",
            "Requirement already satisfied: sympy>=1.3 in /usr/local/lib/python3.10/dist-packages (from qiskit-terra>=0.21.0->qiskit_aer) (1.12)\n",
            "Requirement already satisfied: dill>=0.3 in /usr/local/lib/python3.10/dist-packages (from qiskit-terra>=0.21.0->qiskit_aer) (0.3.7)\n",
            "Requirement already satisfied: python-dateutil>=2.8.0 in /usr/local/lib/python3.10/dist-packages (from qiskit-terra>=0.21.0->qiskit_aer) (2.8.2)\n",
            "Requirement already satisfied: stevedore>=3.0.0 in /usr/local/lib/python3.10/dist-packages (from qiskit-terra>=0.21.0->qiskit_aer) (5.1.0)\n",
            "Requirement already satisfied: symengine<0.10,>=0.9 in /usr/local/lib/python3.10/dist-packages (from qiskit-terra>=0.21.0->qiskit_aer) (0.9.2)\n",
            "Requirement already satisfied: typing-extensions in /usr/local/lib/python3.10/dist-packages (from qiskit-terra>=0.21.0->qiskit_aer) (4.5.0)\n",
            "Requirement already satisfied: six>=1.5 in /usr/local/lib/python3.10/dist-packages (from python-dateutil>=2.8.0->qiskit-terra>=0.21.0->qiskit_aer) (1.16.0)\n",
            "Requirement already satisfied: pbr!=2.1.0,>=2.0.0 in /usr/local/lib/python3.10/dist-packages (from stevedore>=3.0.0->qiskit-terra>=0.21.0->qiskit_aer) (5.11.1)\n",
            "Requirement already satisfied: mpmath>=0.19 in /usr/local/lib/python3.10/dist-packages (from sympy>=1.3->qiskit-terra>=0.21.0->qiskit_aer) (1.3.0)\n",
            "Installing collected packages: qiskit_aer\n",
            "Successfully installed qiskit_aer-0.12.2\n"
          ]
        }
      ],
      "source": [
        "!pip install qiskit_aer"
      ]
    },
    {
      "cell_type": "markdown",
      "metadata": {
        "id": "V30Z6_4G_Sto"
      },
      "source": [
        "# Implement Noise Model"
      ]
    },
    {
      "cell_type": "code",
      "execution_count": 43,
      "metadata": {
        "id": "6yqcs2Aejtv7"
      },
      "outputs": [],
      "source": [
        "import numpy as np\n",
        "from qiskit import QuantumCircuit, transpile\n",
        "from qiskit.quantum_info import Kraus, SuperOp\n",
        "from qiskit_aer import AerSimulator\n",
        "from qiskit.tools.visualization import plot_histogram\n",
        "from qiskit_aer.noise import (NoiseModel, QuantumError, ReadoutError,\n",
        "    pauli_error, depolarizing_error, thermal_relaxation_error)\n",
        "import numpy as np\n",
        "from qiskit.tools.jupyter import *\n",
        "import warnings\n",
        "warnings.filterwarnings('ignore')\n",
        "from qiskit import *\n",
        "import time\n",
        "from qiskit.providers.aer.noise import NoiseModel\n",
        "import qiskit.providers.aer.noise as noise\n",
        "from qiskit.utils import QuantumInstance, algorithm_globals"
      ]
    },
    {
      "cell_type": "code",
      "execution_count": null,
      "metadata": {
        "id": "BBENV0zBoJZG"
      },
      "outputs": [],
      "source": [
        "from qiskit.providers.fake_provider import *"
      ]
    },
    {
      "cell_type": "code",
      "execution_count": 65,
      "metadata": {
        "id": "2CHRkoGUxv9D"
      },
      "outputs": [],
      "source": [
        "import pickle"
      ]
    },
    {
      "cell_type": "code",
      "execution_count": 124,
      "metadata": {
        "id": "kHk6FZU1ypz2"
      },
      "outputs": [],
      "source": [
        "with open('NoiseModel/fakekolkata.pkl', 'rb') as file:\n",
        "    noise_model = pickle.load(file)"
      ]
    },
    {
      "cell_type": "code",
      "execution_count": 125,
      "metadata": {
        "id": "S21Wr7j2y9q4"
      },
      "outputs": [],
      "source": [
        "noise_model1 = noise.NoiseModel()"
      ]
    },
    {
      "cell_type": "code",
      "execution_count": 126,
      "metadata": {
        "id": "16x2_Y4_yybr"
      },
      "outputs": [],
      "source": [
        "noise_modelreal = noise_model1.from_dict(noise_model)"
      ]
    },
    {
      "cell_type": "code",
      "execution_count": 127,
      "metadata": {
        "colab": {
          "base_uri": "https://localhost:8080/"
        },
        "id": "VZXQhYfsz8tU",
        "outputId": "a125cd9f-e6f6-44e8-fe0f-2cf61b96f936"
      },
      "outputs": [
        {
          "data": {
            "text/plain": [
              "<NoiseModel on ['', 'sx', 'cx', 'x', 'reset', 'id', 'measure']>"
            ]
          },
          "execution_count": 127,
          "metadata": {},
          "output_type": "execute_result"
        }
      ],
      "source": [
        "noise_modelreal"
      ]
    },
    {
      "cell_type": "markdown",
      "metadata": {
        "id": "ZggP0wgpBwrD"
      },
      "source": [
        "Transfer the noise model to Pennylane: https://pennylane.ai/blog/2021/05/how-to-simulate-noise-with-pennylane/"
      ]
    },
    {
      "cell_type": "markdown",
      "metadata": {
        "id": "QRxsKX9zTc9g"
      },
      "source": [
        "Here we require paticipants to fix the algorithm seed in qiskit. *MUST* translate other format circuit to qiskit before any place need algorithm seed. And we give 20, 21, 30, 33, 36, 42, 43, 55, 67, 170 as set of seeds to test results on your side, and the result will be calculated as the average of results from some of those seeds with some hidden seeds. And please use shots as 6000."
      ]
    },
    {
      "cell_type": "code",
      "execution_count": null,
      "metadata": {
        "id": "_z5kT9vNSWus"
      },
      "outputs": [],
      "source": [
        "seeds = 170\n",
        "algorithm_globals.random_seed = seeds\n",
        "seed_transpiler = seeds\n",
        "shot = 6000"
      ]
    },
    {
      "cell_type": "markdown",
      "metadata": {
        "id": "vPEQx7yh_dDE"
      },
      "source": [
        "# Circuit Transpile and Execution"
      ]
    },
    {
      "cell_type": "code",
      "execution_count": null,
      "metadata": {
        "colab": {
          "base_uri": "https://localhost:8080/",
          "height": 171
        },
        "id": "lJ8S2H4F2uUl",
        "outputId": "efd7a7dd-cc85-4fc8-9fdc-9680c15ba8a7"
      },
      "outputs": [
        {
          "data": {
            "text/html": [
              "<pre style=\"word-wrap: normal;white-space: pre;background: #fff0;line-height: 1.1;font-family: &quot;Courier New&quot;,Courier,monospace\">       ┌──────────┐  ┌────┐┌─────────┐     ┌─────────────┐      ┌──────────┐»\n",
              "q_0: ──┤ Rz(-π/2) ├──┤ √X ├┤ Rz(π/2) ├──■──┤ Ry(0.84756) ├───■──┤ Rz(-π/2) ├»\n",
              "     ┌─┴──────────┴─┐├───┬┘└─────────┘┌─┴─┐├─────────────┴┐┌─┴─┐└─┬─────┬──┘»\n",
              "q_1: ┤ Rz(-0.25744) ├┤ S ├────────────┤ X ├┤ Ry(-0.84756) ├┤ X ├──┤ Sdg ├───»\n",
              "     └──────────────┘└───┘            └───┘└──────────────┘└───┘  └─────┘   »\n",
              "«         ┌──────┐   ┌─────────┐┌────────────┐\n",
              "«q_0: ────┤ √Xdg ├───┤ Rz(π/2) ├┤ R(5.735,0) ├\n",
              "«     ┌───┴──────┴──┐└──┬───┬──┘└────────────┘\n",
              "«q_1: ┤ Rz(0.25744) ├───┤ I ├─────────────────\n",
              "«     └─────────────┘   └───┘                 </pre>"
            ],
            "text/plain": [
              "       ┌──────────┐  ┌────┐┌─────────┐     ┌─────────────┐      ┌──────────┐»\n",
              "q_0: ──┤ Rz(-π/2) ├──┤ √X ├┤ Rz(π/2) ├──■──┤ Ry(0.84756) ├───■──┤ Rz(-π/2) ├»\n",
              "     ┌─┴──────────┴─┐├───┬┘└─────────┘┌─┴─┐├─────────────┴┐┌─┴─┐└─┬─────┬──┘»\n",
              "q_1: ┤ Rz(-0.25744) ├┤ S ├────────────┤ X ├┤ Ry(-0.84756) ├┤ X ├──┤ Sdg ├───»\n",
              "     └──────────────┘└───┘            └───┘└──────────────┘└───┘  └─────┘   »\n",
              "«         ┌──────┐   ┌─────────┐┌────────────┐\n",
              "«q_0: ────┤ √Xdg ├───┤ Rz(π/2) ├┤ R(5.735,0) ├\n",
              "«     ┌───┴──────┴──┐└──┬───┬──┘└────────────┘\n",
              "«q_1: ┤ Rz(0.25744) ├───┤ I ├─────────────────\n",
              "«     └─────────────┘   └───┘                 "
            ]
          },
          "execution_count": 18,
          "metadata": {},
          "output_type": "execute_result"
        }
      ],
      "source": [
        "from qiskit.circuit.random import random_circuit\n",
        "from qiskit_aer.primitives import Estimator\n",
        "circuit = random_circuit(2, 2, seed=0).decompose(reps=1)\n",
        "circuit.draw()"
      ]
    },
    {
      "cell_type": "markdown",
      "metadata": {
        "id": "ailYlmao_jBV"
      },
      "source": [
        "Transpile the circuit based on given system model from IBMQ_Montreal."
      ]
    },
    {
      "cell_type": "code",
      "execution_count": null,
      "metadata": {
        "id": "SI275sum_rFg"
      },
      "outputs": [],
      "source": [
        "system_model = FakeMontreal()"
      ]
    },
    {
      "cell_type": "code",
      "execution_count": null,
      "metadata": {
        "id": "65IYl_7U_zOh"
      },
      "outputs": [],
      "source": [
        "transpiled_circuit = transpile(circuit, backend=system_model)"
      ]
    },
    {
      "cell_type": "code",
      "execution_count": null,
      "metadata": {
        "colab": {
          "base_uri": "https://localhost:8080/"
        },
        "id": "Ld6bpObI-l0n",
        "outputId": "18744ccd-0234-425a-e3cf-741452d8cad5"
      },
      "outputs": [
        {
          "name": "stdout",
          "output_type": "stream",
          "text": [
            ">>> Observable: ['IIIIIIIIIIIIIIIIIIIIIIIIIXZ']\n"
          ]
        }
      ],
      "source": [
        "from qiskit.quantum_info import SparsePauliOp\n",
        "\n",
        "observable = SparsePauliOp(\"IIIIIIIIIIIIIIIIIIIIIIIIIXZ\")\n",
        "print(f\">>> Observable: {observable.paulis}\")"
      ]
    },
    {
      "cell_type": "markdown",
      "metadata": {
        "id": "1UmOoQMZ_42L"
      },
      "source": [
        "Evaluate on the qiskit Estimator."
      ]
    },
    {
      "cell_type": "code",
      "execution_count": 128,
      "metadata": {
        "id": "M6ACRPs4_GRi"
      },
      "outputs": [],
      "source": [
        "estimator = Estimator(\n",
        "    backend_options = {\n",
        "        'method': 'statevector',\n",
        "        'device': 'CPU',\n",
        "        'noise_model': noise_modelreal\n",
        "    },\n",
        "    run_options = {\n",
        "        'shots': shot,\n",
        "        'seed': seeds,\n",
        "    },\n",
        "    skip_transpilation=True\n",
        ")"
      ]
    },
    {
      "cell_type": "code",
      "execution_count": 129,
      "metadata": {
        "colab": {
          "base_uri": "https://localhost:8080/"
        },
        "id": "2GFiw5SC-ouq",
        "outputId": "dcf84b52-9a53-4cb8-a7ea-b31aa9ed8630"
      },
      "outputs": [
        {
          "name": "stdout",
          "output_type": "stream",
          "text": [
            ">>> EstimatorResult(values=array([0.44766667]), metadata=[{'shots': 6000, 'variance': 0.7995945555555556, 'simulator_metadata': [{'noise': 'kraus', 'batched_shots_optimization': False, 'measure_sampling': False, 'parallel_shots': 2, 'remapped_qubits': False, 'active_input_qubits': [0, 1], 'num_clbits': 2, 'parallel_state_update': 1, 'num_qubits': 2, 'device': 'CPU', 'input_qubit_map': [[1, 1], [0, 0]], 'method': 'statevector', 'fusion': {'applied': False, 'max_fused_qubits': 2, 'threshold': 14, 'enabled': True}}]}])\n"
          ]
        }
      ],
      "source": [
        "job = estimator.run(transpiled_circuit,observable)\n",
        "result = job.result()\n",
        "print(f\">>> {result}\")"
      ]
    },
    {
      "cell_type": "markdown",
      "metadata": {
        "id": "hw8SxNyclYyT"
      },
      "source": [
        "## Obtain the Duration of Quantum Circuit"
      ]
    },
    {
      "cell_type": "code",
      "execution_count": null,
      "metadata": {
        "id": "F-djGu7_BGiY"
      },
      "outputs": [],
      "source": [
        "from qiskit import pulse"
      ]
    },
    {
      "cell_type": "markdown",
      "metadata": {
        "id": "rvKZMDXUBLfA"
      },
      "source": [
        "Do remember to set the optimization_level to 0 if your circuit is already transpiled!!!"
      ]
    },
    {
      "cell_type": "code",
      "execution_count": null,
      "metadata": {
        "id": "_julUiabi5iI"
      },
      "outputs": [],
      "source": [
        "with pulse.build(system_model) as my_program1:\n",
        "  with pulse.transpiler_settings(optimization_level=0):\n",
        "    pulse.call(transpiled_circuit)"
      ]
    },
    {
      "cell_type": "code",
      "execution_count": null,
      "metadata": {
        "colab": {
          "base_uri": "https://localhost:8080/"
        },
        "id": "E3jGzVpNkT00",
        "outputId": "4cf0d4da-f938-49c0-a382-7d5253ba6152"
      },
      "outputs": [
        {
          "data": {
            "text/plain": [
              "4096"
            ]
          },
          "execution_count": 41,
          "metadata": {},
          "output_type": "execute_result"
        }
      ],
      "source": [
        "my_program1.duration"
      ]
    },
    {
      "cell_type": "markdown",
      "metadata": {
        "id": "wWbOzBXbBT_Y"
      },
      "source": [
        "# Save the Circuit in QASM Format"
      ]
    },
    {
      "cell_type": "code",
      "execution_count": null,
      "metadata": {
        "colab": {
          "base_uri": "https://localhost:8080/",
          "height": 55
        },
        "id": "0_4SdcY1BYMe",
        "outputId": "c1f652a2-7da4-4f2a-e616-a6ec1d5b2990"
      },
      "outputs": [
        {
          "data": {
            "application/vnd.google.colaboratory.intrinsic+json": {
              "type": "string"
            },
            "text/plain": [
              "'OPENQASM 2.0;\\ninclude \"qelib1.inc\";\\nqreg q[27];\\nrz(-pi/2) q[0];\\nsx q[0];\\nrz(pi/2) q[0];\\nrz(1.3133520832156265) q[1];\\ncx q[0],q[1];\\nrz(-pi) q[0];\\nsx q[0];\\nrz(2.2940326955930868) q[0];\\nsx q[0];\\nsx q[1];\\nrz(2.294032695593086) q[1];\\nsx q[1];\\nrz(-pi) q[1];\\ncx q[0],q[1];\\nrz(2.1189692017768795) q[0];\\nsx q[0];\\nrz(-pi/2) q[0];\\nrz(-1.313352083215627) q[1];\\n'"
            ]
          },
          "execution_count": 42,
          "metadata": {},
          "output_type": "execute_result"
        }
      ],
      "source": [
        "transpiled_circuit.qasm()"
      ]
    }
  ],
  "metadata": {
    "colab": {
      "provenance": []
    },
    "kernelspec": {
      "display_name": "Python 3 (ipykernel)",
      "language": "python",
      "name": "python3"
    },
    "language_info": {
      "codemirror_mode": {
        "name": "ipython",
        "version": 3
      },
      "file_extension": ".py",
      "mimetype": "text/x-python",
      "name": "python",
      "nbconvert_exporter": "python",
      "pygments_lexer": "ipython3",
      "version": "3.10.9"
    }
  },
  "nbformat": 4,
  "nbformat_minor": 0
}
